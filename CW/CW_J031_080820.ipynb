{
  "nbformat": 4,
  "nbformat_minor": 0,
  "metadata": {
    "colab": {
      "name": "CW_J031_080820.ipynb",
      "provenance": [],
      "collapsed_sections": [],
      "authorship_tag": "ABX9TyOO6BBNldgx7tkOFbGIixFN",
      "include_colab_link": true
    },
    "kernelspec": {
      "name": "python3",
      "display_name": "Python 3"
    }
  },
  "cells": [
    {
      "cell_type": "markdown",
      "metadata": {
        "id": "view-in-github",
        "colab_type": "text"
      },
      "source": [
        "<a href=\"https://colab.research.google.com/github/rohitsmittal7/AI_SEM5_J031/blob/master/CW/CW_J031_080820.ipynb\" target=\"_parent\"><img src=\"https://colab.research.google.com/assets/colab-badge.svg\" alt=\"Open In Colab\"/></a>"
      ]
    },
    {
      "cell_type": "markdown",
      "metadata": {
        "id": "k0hZZZsJg-cZ"
      },
      "source": [
        "PTIME : If n is the input size then, if complete computation can be done or expressed in a polynomial (algebraic expression with degree or highest power as a whole number)\n",
        "\n",
        "Time complexity is O(n^k) where a polynomial of n^k+a1nk-1+... will be order of n^k\n",
        "\n",
        "Is negative feasible Negative n^-1/3 -> 1/n^1/3 n=27 n=216 1/3 , 1/6 1/3>1/6 Can time for computation decrease as inputs increase ?"
      ]
    },
    {
      "cell_type": "code",
      "metadata": {
        "id": "_4GX8ZGVf_uf",
        "outputId": "35937788-184e-405c-8994-0d3871295ae8",
        "colab": {
          "base_uri": "https://localhost:8080/",
          "height": 34
        }
      },
      "source": [
        "def fact(n):\n",
        "  product=1\n",
        "  for i in range(n):\n",
        "    product=product*(i+1)\n",
        "  return product\n",
        "\n",
        "print(fact(5))"
      ],
      "execution_count": 1,
      "outputs": [
        {
          "output_type": "stream",
          "text": [
            "120\n"
          ],
          "name": "stdout"
        }
      ]
    },
    {
      "cell_type": "code",
      "metadata": {
        "id": "XvSKIxgCgYEa",
        "outputId": "8848dc82-9e08-44a3-fbf7-e34e55596dc6",
        "colab": {
          "base_uri": "https://localhost:8080/",
          "height": 51
        }
      },
      "source": [
        "%timeit(fact(5))"
      ],
      "execution_count": 2,
      "outputs": [
        {
          "output_type": "stream",
          "text": [
            "The slowest run took 5.51 times longer than the fastest. This could mean that an intermediate result is being cached.\n",
            "1000000 loops, best of 3: 464 ns per loop\n"
          ],
          "name": "stdout"
        }
      ]
    },
    {
      "cell_type": "code",
      "metadata": {
        "id": "2gHgp73DgeLL",
        "outputId": "b7421e37-8ff5-43ae-d03c-f72899ff95db",
        "colab": {
          "base_uri": "https://localhost:8080/",
          "height": 34
        }
      },
      "source": [
        "%timeit(fact(50))"
      ],
      "execution_count": 3,
      "outputs": [
        {
          "output_type": "stream",
          "text": [
            "100000 loops, best of 3: 3.52 µs per loop\n"
          ],
          "name": "stdout"
        }
      ]
    },
    {
      "cell_type": "code",
      "metadata": {
        "id": "t2AEntQqghav"
      },
      "source": [
        "def sum(a,b):\n",
        "  return a+b"
      ],
      "execution_count": 4,
      "outputs": []
    },
    {
      "cell_type": "code",
      "metadata": {
        "id": "0qUNP1_3gmaD",
        "outputId": "571d0937-d747-42a0-cc23-98af0c5e4846",
        "colab": {
          "base_uri": "https://localhost:8080/",
          "height": 51
        }
      },
      "source": [
        "%timeit sum(5,10)"
      ],
      "execution_count": 5,
      "outputs": [
        {
          "output_type": "stream",
          "text": [
            "The slowest run took 19.21 times longer than the fastest. This could mean that an intermediate result is being cached.\n",
            "10000000 loops, best of 3: 79.3 ns per loop\n"
          ],
          "name": "stdout"
        }
      ]
    },
    {
      "cell_type": "code",
      "metadata": {
        "id": "zyxtkwkAgqJy",
        "outputId": "f9609e06-11f2-41bc-e102-654bfd0fb7e8",
        "colab": {
          "base_uri": "https://localhost:8080/",
          "height": 51
        }
      },
      "source": [
        "%timeit sum(50,100)"
      ],
      "execution_count": 6,
      "outputs": [
        {
          "output_type": "stream",
          "text": [
            "The slowest run took 16.04 times longer than the fastest. This could mean that an intermediate result is being cached.\n",
            "10000000 loops, best of 3: 77.9 ns per loop\n"
          ],
          "name": "stdout"
        }
      ]
    },
    {
      "cell_type": "markdown",
      "metadata": {
        "id": "8bECjko8g6hX"
      },
      "source": [
        ""
      ]
    },
    {
      "cell_type": "markdown",
      "metadata": {
        "id": "wfY0GEfvgzIz"
      },
      "source": [
        "So we see that here the time is almost same as there are no loops or iterations.\n",
        "\n",
        "NP(problem)-soln is non polynomial time\n",
        "\n",
        "P(problem)-max soln time or upper bound is in Polynomial time\n",
        "\n",
        "O(logn) is upper bounded by O(n), and O(nlogn) is upper bounded by O(n2), therefore they are both in P.\n",
        "\n",
        "NP hard ---> a problem is NP hard if its soln is in NP. NP cannot be verified in polynomial time.\n",
        "\n",
        "NP complete ---> can be verified in polynomial time.\n",
        "\n",
        "All np hard problems can be approximated to the problem then it is NP complete.\n",
        "\n",
        "NP(Problem) - Solution is in non polynomial time P(Problem) - Max Solution time or Upper Bound is in Polynomial Time O(n^4) -> log n = (n*logn) log 50(base10) - 1.69 ()<n^1 log 500(base10) - 2.69 ()<n^1 log 5000(base10) - 3.69 ()<n^1 for non linear change in n , change is linear\n",
        "\n",
        "NP () - n! 5! 120 -> <5^3 50! 3.0414093e+64 microsecs -> days -> 3.5201497e+53 days 500! 5000! NP Complete - > All NP hard problems can be approximated to the problem then it is NP Complete. NP hard - > A problem is NP Hard if its solution is in NP, Cannot be verified in Polynomial Time\n",
        "\n",
        "AI Complete or AI Hard Problems SAT - n-SAT (2-SAT)"
      ]
    }
  ]
}