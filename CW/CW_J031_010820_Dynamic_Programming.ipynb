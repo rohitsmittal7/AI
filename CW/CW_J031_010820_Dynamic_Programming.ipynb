{
  "nbformat": 4,
  "nbformat_minor": 0,
  "metadata": {
    "colab": {
      "name": "CW_J031_010820_Dynamic_Programming",
      "provenance": [],
      "authorship_tag": "ABX9TyMeVFJPGBQ1TG9WWxQii0lr",
      "include_colab_link": true
    },
    "kernelspec": {
      "name": "python3",
      "display_name": "Python 3"
    }
  },
  "cells": [
    {
      "cell_type": "markdown",
      "metadata": {
        "id": "view-in-github",
        "colab_type": "text"
      },
      "source": [
        "<a href=\"https://colab.research.google.com/github/rohitsmittal7/AI_SEM5_J031/blob/master/CW/CW_J031_010820_Dynamic_Programming.ipynb\" target=\"_parent\"><img src=\"https://colab.research.google.com/assets/colab-badge.svg\" alt=\"Open In Colab\"/></a>"
      ]
    },
    {
      "cell_type": "code",
      "metadata": {
        "id": "CLFtWK45gqse",
        "colab_type": "code",
        "colab": {}
      },
      "source": [
        "def factorial_recursion(n):\n",
        "    factor=1\n",
        "    if (n==0):\n",
        "        return factor\n",
        "    else:\n",
        "        return n*factorial_recursion(n-1)\n",
        "\n",
        "def factorial_simpl(n):\n",
        "    factor=1\n",
        "    for i in range(1,n+1):\n",
        "        factor=factor*i\n",
        "    return factor"
      ],
      "execution_count": 1,
      "outputs": []
    },
    {
      "cell_type": "code",
      "metadata": {
        "id": "pBY5S9yigzwA",
        "colab_type": "code",
        "colab": {
          "base_uri": "https://localhost:8080/",
          "height": 34
        },
        "outputId": "5ba8417a-1970-48b3-8cac-630959a9c339"
      },
      "source": [
        "factorial_recursion(5)"
      ],
      "execution_count": 2,
      "outputs": [
        {
          "output_type": "execute_result",
          "data": {
            "text/plain": [
              "120"
            ]
          },
          "metadata": {
            "tags": []
          },
          "execution_count": 2
        }
      ]
    },
    {
      "cell_type": "code",
      "metadata": {
        "id": "6s73WBsyg1Nu",
        "colab_type": "code",
        "colab": {
          "base_uri": "https://localhost:8080/",
          "height": 34
        },
        "outputId": "aed0246b-a609-409c-bf1d-84f63a778194"
      },
      "source": [
        "factorial_simpl(5)"
      ],
      "execution_count": 3,
      "outputs": [
        {
          "output_type": "execute_result",
          "data": {
            "text/plain": [
              "120"
            ]
          },
          "metadata": {
            "tags": []
          },
          "execution_count": 3
        }
      ]
    },
    {
      "cell_type": "code",
      "metadata": {
        "id": "Jh8V7pnlg4PG",
        "colab_type": "code",
        "colab": {}
      },
      "source": [
        "# Property\n",
        "# Base Case - sum(0,1)\n",
        "# nth number is sum of previous two numbers num(n)=sum(num(n-1),num(n-2))\n",
        "\n",
        "def fibo_simpl(n):\n",
        "    #Function to calculate nth Fibonacci Number\n",
        "    fibo=[]\n",
        "    #count=0\n",
        "    fibo[0],fibo[1]=0,1\n",
        "    for i in range(2,n+1):\n",
        "        fibo[i]=fibo[i-1]+fibo[i-2]\n",
        "    return fibo[n]"
      ],
      "execution_count": 4,
      "outputs": []
    },
    {
      "cell_type": "code",
      "metadata": {
        "id": "rlpSaFe3g99h",
        "colab_type": "code",
        "colab": {}
      },
      "source": [
        "def fibo_1(n):\n",
        "    # n: whole number \n",
        "    # returns the n+1th number\n",
        "    if n==0 or n==1:\n",
        "        return n \n",
        "    else : \n",
        "        return fibo_1(n-1)+fibo_1(n-2)"
      ],
      "execution_count": 5,
      "outputs": []
    },
    {
      "cell_type": "code",
      "metadata": {
        "id": "mDhIIRCthAlj",
        "colab_type": "code",
        "colab": {
          "base_uri": "https://localhost:8080/",
          "height": 35
        },
        "outputId": "93bcafef-a35d-4d41-c267-54a2c6dfc18c"
      },
      "source": [
        "#Binary Search\n",
        "list =[5,3,2,1,5,6,7,123,97,65,34,22,344,2245,122,45]\n",
        "\n",
        "\"\"\"\n",
        "Searching an element in a list\n",
        "\"\"\""
      ],
      "execution_count": 6,
      "outputs": [
        {
          "output_type": "execute_result",
          "data": {
            "application/vnd.google.colaboratory.intrinsic+json": {
              "type": "string"
            },
            "text/plain": [
              "'\\nSearching an element in a list\\n'"
            ]
          },
          "metadata": {
            "tags": []
          },
          "execution_count": 6
        }
      ]
    },
    {
      "cell_type": "code",
      "metadata": {
        "id": "cVkcgVVLhIQT",
        "colab_type": "code",
        "colab": {}
      },
      "source": [
        "list1=list.copy().sort()\n"
      ],
      "execution_count": 7,
      "outputs": []
    },
    {
      "cell_type": "code",
      "metadata": {
        "id": "-qFPE9hXhJfr",
        "colab_type": "code",
        "colab": {
          "base_uri": "https://localhost:8080/",
          "height": 34
        },
        "outputId": "c97b15d1-8eeb-4251-9dab-12746e2d8a65"
      },
      "source": [
        "list\n"
      ],
      "execution_count": 8,
      "outputs": [
        {
          "output_type": "execute_result",
          "data": {
            "text/plain": [
              "[5, 3, 2, 1, 5, 6, 7, 123, 97, 65, 34, 22, 344, 2245, 122, 45]"
            ]
          },
          "metadata": {
            "tags": []
          },
          "execution_count": 8
        }
      ]
    }
  ]
}