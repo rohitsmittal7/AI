{
  "nbformat": 4,
  "nbformat_minor": 0,
  "metadata": {
    "colab": {
      "name": "HW_J031_080820.ipynb",
      "provenance": [],
      "authorship_tag": "ABX9TyMCZ224yL7RNrec5msoJcFH",
      "include_colab_link": true
    },
    "kernelspec": {
      "name": "python3",
      "display_name": "Python 3"
    }
  },
  "cells": [
    {
      "cell_type": "markdown",
      "metadata": {
        "id": "view-in-github",
        "colab_type": "text"
      },
      "source": [
        "<a href=\"https://colab.research.google.com/github/rohitsmittal7/AI_SEM5_J031/blob/master/HW/HW_J031_080820.ipynb\" target=\"_parent\"><img src=\"https://colab.research.google.com/assets/colab-badge.svg\" alt=\"Open In Colab\"/></a>"
      ]
    },
    {
      "cell_type": "markdown",
      "metadata": {
        "id": "Vg7qwPydiOOI"
      },
      "source": [
        "A Knapsack Problem"
      ]
    },
    {
      "cell_type": "code",
      "metadata": {
        "id": "49jFkJOnj-w5"
      },
      "source": [
        "import sys\n",
        "import heapq\n",
        "\n",
        "def knapsack(N,M,S,V,E) :\n",
        "  T = tuple(set() for _ in range(N))\n",
        "  for u,v in E :\n",
        "    T[u].add(v)\n",
        "    T[v].add(u)\n",
        "    Total, order, maxVal = sum(V), sorted(range(n), reverse=True, key=(lambda i : V[i]/S[i])), 0\n",
        "  def maximum(visit, connect, reject, size, value, rejectVal, maxVal) :\n",
        "      if value > maxVal :\n",
        "          maxVal = value\n",
        "      if not connect :\n",
        "          return maxVal\n",
        "      i = best_case(connect)\n",
        "      if size + S[i] <= M :\n",
        "          maxVal = maximum(visit|{i}, (connect-{i}) | (T[i]-reject-visit), reject, size+S[i], value+V[i], rejectVal, maxVal)\n",
        "      if Total - (rejectVal + V[i]) > maxVal :\n",
        "          maxVal = maximum(visit|{i}, connect-{i}, reject | {i}, size, value, rejectVal + V[i], maxVal)\n",
        "      return maxVal\n",
        "  def best_case(connect) :\n",
        "      for i in order :\n",
        "          if i in connect :\n",
        "              return i\n",
        "  for s in order :\n",
        "      maxVal = maximum(set(),{s},set(),0,0,0,maxVal)\n",
        "  return maxVal\n",
        "\n",
        "T = int(input())\n",
        "for _ in range(T) :\n",
        "    n,m = (int(_) for _ in input().split())\n",
        "    s = tuple(int(_) for _ in input().split())\n",
        "    v = tuple(int(_) for _ in input().split())\n",
        "    e = tuple((int(_)-1 for _ in input().split()) for _ in range(n-1))\n",
        "    print(\"Output is: \" ,knapsack(n,m,s,v,e))\n"
      ],
      "execution_count": null,
      "outputs": []
    },
    {
      "cell_type": "code",
      "metadata": {
        "id": "4Ero3zoLkieO"
      },
      "source": [
        "T = int(input())\n",
        "for _ in range(T) :\n",
        "    n,m = (int(_) for _ in input().split())\n",
        "    s = tuple(int(_) for _ in input().split())\n",
        "    v = tuple(int(_) for _ in input().split())\n",
        "    e = tuple((int(_)-1 for _ in input().split()) for _ in range(n-1))\n",
        "    print(\"Output is: \" ,knapsack(n,m,s,v,e))"
      ],
      "execution_count": null,
      "outputs": []
    },
    {
      "cell_type": "code",
      "metadata": {
        "id": "DoufEECXkm1a"
      },
      "source": [
        "T = int(input())\n",
        "for _ in range(T) :\n",
        "    n,m = (int(_) for _ in input().split())\n",
        "    s = tuple(int(_) for _ in input().split())\n",
        "    v = tuple(int(_) for _ in input().split())\n",
        "    e = tuple((int(_)-1 for _ in input().split()) for _ in range(n-1))\n",
        "    print(\"Output is: \" ,knapsack(n,m,s,v,e))"
      ],
      "execution_count": null,
      "outputs": []
    }
  ]
}