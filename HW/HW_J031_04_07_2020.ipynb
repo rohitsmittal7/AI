{
  "nbformat": 4,
  "nbformat_minor": 0,
  "metadata": {
    "colab": {
      "name": "HW_J031_04/07/2020",
      "provenance": [],
      "authorship_tag": "ABX9TyN7DJXyrA2PatEvndRNjTif",
      "include_colab_link": true
    },
    "kernelspec": {
      "name": "python3",
      "display_name": "Python 3"
    }
  },
  "cells": [
    {
      "cell_type": "markdown",
      "metadata": {
        "id": "view-in-github",
        "colab_type": "text"
      },
      "source": [
        "<a href=\"https://colab.research.google.com/github/rohitsmittal7/AI_SEM5_J031/blob/master/HW/HW_J031_04_07_2020.ipynb\" target=\"_parent\"><img src=\"https://colab.research.google.com/assets/colab-badge.svg\" alt=\"Open In Colab\"/></a>"
      ]
    },
    {
      "cell_type": "code",
      "metadata": {
        "id": "IpLq1XAQ1cDB",
        "colab_type": "code",
        "colab": {}
      },
      "source": [
        "#1\n",
        "import math\n",
        "import os\n",
        "import random\n",
        "import re\n",
        "import sys\n",
        "\n",
        "\n",
        "\n",
        "if __name__ == '__main__':\n",
        " n = int(input().strip())\n",
        "if(n%2==0):\n",
        "        if(n>=2 and n<=5):\n",
        "            print('Not Weird')\n",
        "\n",
        "        if(n>=6 and n<=20):\n",
        "            print('Weird')\n",
        "\n",
        "        if(n>20):\n",
        "            print('Not Weird')\n",
        "\n",
        "else:\n",
        "        print('Weird')"
      ],
      "execution_count": null,
      "outputs": []
    },
    {
      "cell_type": "code",
      "metadata": {
        "id": "j2ceLUlz27T8",
        "colab_type": "code",
        "colab": {}
      },
      "source": [
        "#2\n",
        "if __name__ == '__main__':\n",
        "    a = int(input())\n",
        "    b = int(input())\n",
        "    \n",
        "    print(a+b)\n",
        "    print(a-b)\n",
        "    print(a*b)"
      ],
      "execution_count": null,
      "outputs": []
    },
    {
      "cell_type": "code",
      "metadata": {
        "id": "w89fpW6_27Yc",
        "colab_type": "code",
        "colab": {}
      },
      "source": [
        "#3\n",
        "if __name__ == '__main__':\n",
        "    a = int(input())\n",
        "    b = int(input())\n",
        "\n",
        "    print(a//b)\n",
        "    print(a/b)"
      ],
      "execution_count": null,
      "outputs": []
    },
    {
      "cell_type": "code",
      "metadata": {
        "id": "MUEAspVl3Dnr",
        "colab_type": "code",
        "colab": {}
      },
      "source": [
        "#4\n",
        "if __name__ == '__main__':\n",
        "    n = int(input())\n",
        "\n",
        "    i=0\n",
        "    while(i<n):\n",
        "        print(i*i)\n",
        "        i+=1"
      ],
      "execution_count": null,
      "outputs": []
    },
    {
      "cell_type": "code",
      "metadata": {
        "id": "NR_X2qKa3Dwh",
        "colab_type": "code",
        "colab": {}
      },
      "source": [
        "#5\n",
        "if __name__ == '__main__':\n",
        "    n = int(input())\n",
        "    i=1\n",
        "\n",
        "\n",
        "    while(i<=n):\n",
        "        print(i,end=\"\")\n",
        "        i+=1"
      ],
      "execution_count": null,
      "outputs": []
    },
    {
      "cell_type": "code",
      "metadata": {
        "id": "xRgjrol-3L9d",
        "colab_type": "code",
        "colab": {}
      },
      "source": [
        "#6\n",
        "if __name__ == '__main__':\n",
        "    x = int(input())\n",
        "    y = int(input())\n",
        "    z = int(input())\n",
        "    n = int(input())\n",
        "\n",
        "    dims = [[i,j,k] for i in range(x+1) for j in range(y+1) for k in range(z+1) if((i+j+k)!=n)]\n",
        "\n",
        "    print(dims)"
      ],
      "execution_count": null,
      "outputs": []
    }
  ]
}