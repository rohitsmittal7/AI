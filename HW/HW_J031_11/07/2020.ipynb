{
  "nbformat": 4,
  "nbformat_minor": 0,
  "metadata": {
    "colab": {
      "name": "Untitled3.ipynb",
      "provenance": [],
      "authorship_tag": "ABX9TyP2e8+qRWfbEITzR8z+JKd+",
      "include_colab_link": true
    },
    "kernelspec": {
      "name": "python3",
      "display_name": "Python 3"
    }
  },
  "cells": [
    {
      "cell_type": "markdown",
      "metadata": {
        "id": "view-in-github",
        "colab_type": "text"
      },
      "source": [
        "<a href=\"https://colab.research.google.com/github/rohitsmittal7/AI_SEM5_J031/blob/master/HW/HW_J031_11/07/2020.ipynb\" target=\"_parent\"><img src=\"https://colab.research.google.com/assets/colab-badge.svg\" alt=\"Open In Colab\"/></a>"
      ]
    },
    {
      "cell_type": "code",
      "metadata": {
        "id": "g2SM3fL6tksN",
        "colab_type": "code",
        "colab": {
          "base_uri": "https://localhost:8080/",
          "height": 71
        },
        "outputId": "0c3649c1-2b88-48f0-c95c-7c0682e12512"
      },
      "source": [
        "import numpy as np\n",
        "import pandas as pd\n",
        "import matplotlib.pyplot as plt\n",
        "import seaborn as sns"
      ],
      "execution_count": 1,
      "outputs": [
        {
          "output_type": "stream",
          "text": [
            "/usr/local/lib/python3.6/dist-packages/statsmodels/tools/_testing.py:19: FutureWarning: pandas.util.testing is deprecated. Use the functions in the public API at pandas.testing instead.\n",
            "  import pandas.util.testing as tm\n"
          ],
          "name": "stderr"
        }
      ]
    },
    {
      "cell_type": "code",
      "metadata": {
        "id": "jmPRTcF0uAwB",
        "colab_type": "code",
        "colab": {}
      },
      "source": [
        "class DataRead():\n",
        "  def __init__(self,filename):\n",
        "    self.data = pd.read_csv(filename)\n",
        "\n",
        "  def display_rows(self,x,y):\n",
        "    print(self.data.iloc[[x, y]])\n",
        "\n",
        "class DataRead2(DataRead):\n",
        "  #def __init__(self, filename):\n",
        "    #DataRead.__init__(DataRead, filename)\n",
        "\n",
        "  def plot_correlation(self):\n",
        "    temp_data = self.data\n",
        "    correlation = temp_data.corr()\n",
        "    sns.heatmap(correlation)\n",
        "    plt.show()\n",
        "\n",
        "  def display_rows(self,x,y,z):\n",
        "    print(self.data.iloc[[x, y, z]])"
      ],
      "execution_count": 2,
      "outputs": []
    },
    {
      "cell_type": "code",
      "metadata": {
        "id": "QDh3Mq58uHex",
        "colab_type": "code",
        "colab": {}
      },
      "source": [
        "filename = 'datasets_19_420_Iris.csv'\n",
        "s1 = DataRead(filename)\n",
        "print(s1.data.head())"
      ],
      "execution_count": null,
      "outputs": []
    },
    {
      "cell_type": "code",
      "metadata": {
        "id": "uz1zSgFHuoqt",
        "colab_type": "code",
        "colab": {}
      },
      "source": [
        "x = int(input('Enter row number to be displayed: '))\n",
        "y = int(input('Enter row number to be displayed: '))\n",
        "s1.display_rows(x-1,y-1)"
      ],
      "execution_count": null,
      "outputs": []
    },
    {
      "cell_type": "code",
      "metadata": {
        "id": "5w5shtMiusWf",
        "colab_type": "code",
        "colab": {}
      },
      "source": [
        "s2 = DataRead2(filename)\n",
        "s2.plot_correlation()"
      ],
      "execution_count": null,
      "outputs": []
    },
    {
      "cell_type": "code",
      "metadata": {
        "id": "9EzC8Treuu8q",
        "colab_type": "code",
        "colab": {}
      },
      "source": [
        "x = int(input('Enter row number to be displayed: '))\n",
        "y = int(input('Enter row number to be displayed: '))\n",
        "z = int(input('Enter row number to be displayed: '))\n",
        "s2.display_rows(x-1,y-1,z-1)"
      ],
      "execution_count": null,
      "outputs": []
    }
  ]
}