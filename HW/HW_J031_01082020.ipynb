{
  "nbformat": 4,
  "nbformat_minor": 0,
  "metadata": {
    "colab": {
      "name": "HW_J031_01082020.ipynb",
      "provenance": [],
      "authorship_tag": "ABX9TyO6wUNOeER3tDoNOdOf+Bbo",
      "include_colab_link": true
    },
    "kernelspec": {
      "name": "python3",
      "display_name": "Python 3"
    }
  },
  "cells": [
    {
      "cell_type": "markdown",
      "metadata": {
        "id": "view-in-github",
        "colab_type": "text"
      },
      "source": [
        "<a href=\"https://colab.research.google.com/github/rohitsmittal7/AI_SEM5_J031/blob/master/HW/HW_J031_01082020.ipynb\" target=\"_parent\"><img src=\"https://colab.research.google.com/assets/colab-badge.svg\" alt=\"Open In Colab\"/></a>"
      ]
    },
    {
      "cell_type": "markdown",
      "metadata": {
        "id": "rDviDEkZiRJM",
        "colab_type": "text"
      },
      "source": [
        "Validating Postal Codes"
      ]
    },
    {
      "cell_type": "code",
      "metadata": {
        "id": "ZYB1-8DviVun",
        "colab_type": "code",
        "colab": {}
      },
      "source": [
        "regex_integer_in_range = r\"^[1-9][\\d]{5}$\"    # Do not delete 'r'.\n",
        "regex_alternating_repetitive_digit_pair = r\"(\\d)(?=\\d\\1)\"    # Do not delete 'r'\n",
        "import re\n",
        "P = input()\n",
        "\n",
        "print (bool(re.match(regex_integer_in_range, P)) \n",
        "and len(re.findall(regex_alternating_repetitive_digit_pair, P)) < 2)\n",
        "\n"
      ],
      "execution_count": null,
      "outputs": []
    },
    {
      "cell_type": "markdown",
      "metadata": {
        "id": "LYi_ONWcif-H",
        "colab_type": "text"
      },
      "source": [
        "The Coin Change Problem"
      ]
    },
    {
      "cell_type": "code",
      "metadata": {
        "id": "_-_80Sj3inpB",
        "colab_type": "code",
        "colab": {}
      },
      "source": [
        "#!/bin/python3\n",
        "\n",
        "import math\n",
        "import os\n",
        "import random\n",
        "import re\n",
        "import sys\n",
        "\n",
        "#\n",
        "# Complete the 'getWays' function below.\n",
        "#\n",
        "# The function is expected to return a LONG_INTEGER.\n",
        "# The function accepts following parameters:\n",
        "#  1. INTEGER n\n",
        "#  2. LONG_INTEGER_ARRAY c\n",
        "#\n",
        "\n",
        "def getWays(n, c):\n",
        "    arr = [0 for h in range(n+1)]\n",
        "    arr[0] = 1\n",
        "\n",
        "    for k in c:\n",
        "        for i in range(1,n+1):\n",
        "            if n>=k:\n",
        "                if i>=k:\n",
        "                    arr[i] += arr[i-k]\n",
        "    return arr\n",
        "if __name__ == '__main__':\n",
        "    fptr = open(os.environ['OUTPUT_PATH'], 'w')\n",
        "\n",
        "    first_multiple_input = input().rstrip().split()\n",
        "\n",
        "    n = int(first_multiple_input[0])\n",
        "\n",
        "    m = int(first_multiple_input[1])\n",
        "\n",
        "    c = list(map(int, input().rstrip().split()))\n",
        "\n",
        "    # Print the number of ways of making change for 'n' units using coins having the values given by 'c'\n",
        "\n",
        "    ways = getWays(n, c)\n",
        "    ways = ways[-1]\n",
        "    fptr.write(str(ways) + '\\n')\n",
        "\n",
        "    fptr.close()"
      ],
      "execution_count": null,
      "outputs": []
    },
    {
      "cell_type": "markdown",
      "metadata": {
        "id": "kOFYQhAhitGG",
        "colab_type": "text"
      },
      "source": [
        "Sherlock and Cost"
      ]
    },
    {
      "cell_type": "code",
      "metadata": {
        "id": "tiKCMBJCixg0",
        "colab_type": "code",
        "colab": {}
      },
      "source": [
        "#!/bin/python3\n",
        "\n",
        "import math\n",
        "import os\n",
        "import random\n",
        "import re\n",
        "import sys\n",
        "\n",
        "# Complete the cost function below.\n",
        "def cost(B):\n",
        "    L=len(B)\n",
        "    dp=matrix = [[0 for i in range(2)] for i in range(L)]\n",
        "    i=1\n",
        "    while i<len(B):\n",
        "        dp[i][0]=max(dp[i-1][0], dp[i-1][1]+B[i-1]-1)\n",
        "        dp[i][1]=max(dp[i-1][0]+B[i]-1, dp[i-1][1]+abs(B[i]-B[i-1]))\n",
        "        i += 1\n",
        "    return max(dp[L-1][0],dp[L-1][1])\n",
        "if __name__ == '__main__':\n",
        "    fptr = open(os.environ['OUTPUT_PATH'], 'w')\n",
        "\n",
        "    t = int(input())\n",
        "\n",
        "    for t_itr in range(t):\n",
        "        n = int(input())\n",
        "\n",
        "        B = list(map(int, input().rstrip().split()))\n",
        "\n",
        "        result = cost(B)\n",
        "\n",
        "        fptr.write(str(result) + '\\n')\n",
        "\n",
        "    fptr.close()"
      ],
      "execution_count": null,
      "outputs": []
    }
  ]
}